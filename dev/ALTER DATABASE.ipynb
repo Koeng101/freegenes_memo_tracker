{
 "cells": [
  {
   "cell_type": "code",
   "execution_count": 1,
   "metadata": {},
   "outputs": [],
   "source": [
    "import os\n",
    "import psycopg2\n",
    "\n",
    "# Create postgres database\n",
    "conn = psycopg2.connect(os.environ.get('DATABASE_URL'))\n",
    "cursor = conn.cursor()\n"
   ]
  },
  {
   "cell_type": "code",
   "execution_count": 6,
   "metadata": {},
   "outputs": [
    {
     "ename": "DuplicateTable",
     "evalue": "relation \"memos\" already exists\n",
     "output_type": "error",
     "traceback": [
      "\u001b[0;31m---------------------------------------------------------------------------\u001b[0m",
      "\u001b[0;31mDuplicateTable\u001b[0m                            Traceback (most recent call last)",
      "\u001b[0;32m<ipython-input-6-aad088b6999e>\u001b[0m in \u001b[0;36m<module>\u001b[0;34m\u001b[0m\n\u001b[1;32m     69\u001b[0m \u001b[0mCOMMIT\u001b[0m\u001b[0;34m;\u001b[0m\u001b[0;34m\u001b[0m\u001b[0;34m\u001b[0m\u001b[0m\n\u001b[1;32m     70\u001b[0m \"\"\".format(\"','\".join(states))\n\u001b[0;32m---> 71\u001b[0;31m \u001b[0mcursor\u001b[0m\u001b[0;34m.\u001b[0m\u001b[0mexecute\u001b[0m\u001b[0;34m(\u001b[0m\u001b[0mcreate_db\u001b[0m\u001b[0;34m)\u001b[0m\u001b[0;34m\u001b[0m\u001b[0;34m\u001b[0m\u001b[0m\n\u001b[0m\u001b[1;32m     72\u001b[0m \u001b[0mconn\u001b[0m\u001b[0;34m.\u001b[0m\u001b[0mcommit\u001b[0m\u001b[0;34m(\u001b[0m\u001b[0;34m)\u001b[0m\u001b[0;34m\u001b[0m\u001b[0;34m\u001b[0m\u001b[0m\n",
      "\u001b[0;31mDuplicateTable\u001b[0m: relation \"memos\" already exists\n"
     ]
    }
   ],
   "source": [
    "states = [\n",
    "    'limbo',\n",
    "    'memo_submitted',\n",
    "    'memo_edits_required',\n",
    "    'memo_dropped',\n",
    "    'synmemo_baking',\n",
    "    'synmemo_edits_required',\n",
    "    'synmemo_dropped',\n",
    "    'synmemo_submitted',\n",
    "    'synthesis_submitted',\n",
    "    'distribution_baking',\n",
    "    'distribution_shipping'\n",
    "]\n",
    "\n",
    "create_db = \"\"\"\n",
    "BEGIN;\n",
    "\n",
    "-- Get those UUIDs\n",
    "CREATE EXTENSION IF NOT EXISTS \"uuid-ossp\";\n",
    "\n",
    "-- Create Update Function\n",
    "\n",
    "CREATE TABLE memos (\n",
    "    id uuid PRIMARY KEY DEFAULT uuid_generate_v4(),\n",
    "    name TEXT NOT NULL,\n",
    "    short_description TEXT NOT NULL,\n",
    "    justification TEXT NOT NULL,\n",
    "    priority SMALLINT NOT NULL,\n",
    "    urgency SMALLINT NOT NULL,\n",
    "    estimated_gene_count SMALLINT NOT NULL,\n",
    "    memo_link TEXT,\n",
    "    synmemo_link TEXT,\n",
    "    memo BYTEA,\n",
    "    synmemo BYTEA,\n",
    "    doi TEXT\n",
    ");\n",
    "\n",
    "CREATE TABLE authors (\n",
    "    name TEXT PRIMARY KEY,\n",
    "    contact_details TEXT\n",
    ");\n",
    "\n",
    "CREATE TABLE institutions (\n",
    "    name TEXT PRIMARY KEY,\n",
    "    master_signed BOOLEAN NOT NULL\n",
    ");\n",
    "\n",
    "CREATE TABLE labs (\n",
    "    name TEXT PRIMARY KEY,\n",
    "    institution TEXT NOT NULL REFERENCES institutions(name)\n",
    ");\n",
    "\n",
    "CREATE TABLE memos_authors_labs (\n",
    "    memo uuid NOT NULL REFERENCES memos(id),\n",
    "    author TEXT NOT NULL REFERENCES authors(name),\n",
    "    lab TEXT NOT NULL REFERENCES labs(name),\n",
    "    position SMALLINT NOT NULL,\n",
    "    PRIMARY KEY (memo,author,lab)\n",
    ");\n",
    "\n",
    "CREATE TABLE literature_search (\n",
    "    id uuid PRIMARY KEY DEFAULT uuid_generate_v4(),\n",
    "    memo uuid NOT NULL REFERENCES memos(id),\n",
    "    doi TEXT NOT NULL,\n",
    "    notes TEXT NOT NULL\n",
    ");\n",
    "\n",
    "CREATE TABLE timestamps (\n",
    "    memo uuid NOT NULL REFERENCES memos(id),\n",
    "    state TEXT NOT NULL CHECK (state in ('{}')),\n",
    "    created_at TIMESTAMPTZ NOT NULL DEFAULT NOW(),\n",
    "    notes TEXT,\n",
    "    PRIMARY KEY (memo, state)\n",
    ");\n",
    "\n",
    "COMMIT;\n",
    "\"\"\".format(\"','\".join(states))\n",
    "#cursor.execute(create_db)\n",
    "#conn.commit()"
   ]
  },
  {
   "cell_type": "code",
   "execution_count": 21,
   "metadata": {},
   "outputs": [],
   "source": [
    "cursor.execute('ROLLBACK')"
   ]
  },
  {
   "cell_type": "code",
   "execution_count": 17,
   "metadata": {},
   "outputs": [],
   "source": [
    "### Add column\n",
    "cmd = \"\"\"\n",
    "BEGIN;\n",
    "ALTER TABLE authors\n",
    "DROP COLUMN lab ;\n",
    "COMMIT;\n",
    "\"\"\"\n",
    "cursor.execute(cmd)\n",
    "conn.commit()"
   ]
  },
  {
   "cell_type": "code",
   "execution_count": 2,
   "metadata": {},
   "outputs": [],
   "source": [
    "cmd = \"\"\"\n",
    "BEGIN;\n",
    "\n",
    "COMMIT;\n",
    "\"\"\"\n",
    "cursor.execute(cmd)\n",
    "conn.commit()"
   ]
  },
  {
   "cell_type": "code",
   "execution_count": 6,
   "metadata": {},
   "outputs": [],
   "source": [
    "### Manipulate memo_state_check\n",
    "states = [\n",
    "    'limbo',\n",
    "    'memo_submitted',\n",
    "    'memo_edits_required',\n",
    "    'memo_dropped',\n",
    "    'synmemo_baking',\n",
    "    'synmemo_edits_required',\n",
    "    'synmemo_dropped',\n",
    "    'synmemo_submitted',\n",
    "    'synthesis_submitted',\n",
    "    'distribution_baking',\n",
    "    'distribution_shipping'\n",
    "]\n",
    "\n",
    "cmd = \"\"\"\n",
    "BEGIN;\n",
    "ALTER TABLE timestamps DROP CONSTRAINT timestamps_state_check;\n",
    "ALTER TABLE timestamps ADD CONSTRAINT timestamps_state_check CHECK (state in ('{}'));\n",
    "COMMIT;\n",
    "\"\"\".format(\"','\".join(states))\n",
    "#cursor.execute(cmd)\n",
    "#conn.commit()"
   ]
  },
  {
   "cell_type": "code",
   "execution_count": 7,
   "metadata": {},
   "outputs": [
    {
     "name": "stdout",
     "output_type": "stream",
     "text": [
      "\n",
      "BEGIN;\n",
      "ALTER TABLE timestamps DROP CONSTRAINT timestamps_state_check;\n",
      "ALTER TABLE timestamps ADD CONSTRAINT timestamps_state_check CHECK (state in ('limbo','memo_submitted','memo_edits_required','memo_dropped','synmemo_baking','synmemo_edits_required','synmemo_dropped','synmemo_submitted','synthesis_submitted','distribution_baking','distribution_shipping'));\n",
      "COMMIT;\n",
      "\n"
     ]
    }
   ],
   "source": [
    "print(cmd)"
   ]
  },
  {
   "cell_type": "code",
   "execution_count": 18,
   "metadata": {},
   "outputs": [],
   "source": [
    "### Add table\n",
    "cmd = \"\"\"\n",
    "BEGIN;\n",
    "CREATE TABLE timestamps (\n",
    "    memo uuid NOT NULL REFERENCES memos(id),\n",
    "    state TEXT NOT NULL CHECK (state in ('{}')),\n",
    "    created_at TIMESTAMPTZ NOT NULL DEFAULT NOW(),\n",
    "    PRIMARY KEY (memo, state)\n",
    ");\n",
    "COMMIT;\n",
    "\"\"\".format(\"','\".join(states))\n",
    "#cursor.execute(cmd)\n",
    "#conn.commit()"
   ]
  },
  {
   "cell_type": "code",
   "execution_count": 5,
   "metadata": {},
   "outputs": [],
   "source": [
    "cursor.execute(\"ROLLBACK\")"
   ]
  }
 ],
 "metadata": {
  "kernelspec": {
   "display_name": "Python 3",
   "language": "python",
   "name": "python3"
  },
  "language_info": {
   "codemirror_mode": {
    "name": "ipython",
    "version": 3
   },
   "file_extension": ".py",
   "mimetype": "text/x-python",
   "name": "python",
   "nbconvert_exporter": "python",
   "pygments_lexer": "ipython3",
   "version": "3.8.1"
  }
 },
 "nbformat": 4,
 "nbformat_minor": 2
}
