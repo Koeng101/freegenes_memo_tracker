{
 "cells": [
  {
   "cell_type": "code",
   "execution_count": 1,
   "metadata": {},
   "outputs": [],
   "source": [
    "import os\n",
    "import psycopg2\n",
    "\n",
    "# Create postgres database\n",
    "conn = psycopg2.connect(os.environ.get('DATABASE_URL'))\n",
    "cursor = conn.cursor()\n"
   ]
  },
  {
   "cell_type": "code",
   "execution_count": 3,
   "metadata": {},
   "outputs": [
    {
     "name": "stdout",
     "output_type": "stream",
     "text": [
      "('E.coli RED20 Essentials', 'distribution_shipping', datetime.datetime(2019, 12, 12, 15, 25, 43, tzinfo=psycopg2.tz.FixedOffsetTimezone(offset=0, name=None)))\n",
      "('JCVI Syn3.0 Essentials', 'distribution_shipping', datetime.datetime(2019, 8, 3, 12, 50, 39, tzinfo=psycopg2.tz.FixedOffsetTimezone(offset=0, name=None)))\n",
      "('B. subtilis Essentials', 'distribution_baking', datetime.datetime(2019, 8, 28, 0, 0, tzinfo=psycopg2.tz.FixedOffsetTimezone(offset=0, name=None)))\n",
      "('Mesoplasma florum ORFs', 'distribution_baking', datetime.datetime(2019, 9, 5, 0, 0, tzinfo=psycopg2.tz.FixedOffsetTimezone(offset=0, name=None)))\n",
      "('OpenEnzyme #1', 'distribution_shipping', datetime.datetime(2019, 8, 3, 0, 0, tzinfo=psycopg2.tz.FixedOffsetTimezone(offset=0, name=None)))\n"
     ]
    }
   ],
   "source": [
    "cmd = \"\"\"\n",
    "SELECT m.name,m.priority,m.estimated_gene_count, t.state,t.created_at as last_updated FROM memos as m JOIN (SELECT DISTINCT ON (memo) memo,created_at,state FROM timestamps ORDER BY memo,created_at DESC) AS t ON t.memo = m.id ORDER BY last_updated DESC\n",
    "\"\"\"\n",
    "\n",
    "cursor.execute(cmd)\n",
    "for row in cursor.fetchall():\n",
    "    print(row)"
   ]
  }
 ],
 "metadata": {
  "kernelspec": {
   "display_name": "Python 3",
   "language": "python",
   "name": "python3"
  },
  "language_info": {
   "codemirror_mode": {
    "name": "ipython",
    "version": 3
   },
   "file_extension": ".py",
   "mimetype": "text/x-python",
   "name": "python",
   "nbconvert_exporter": "python",
   "pygments_lexer": "ipython3",
   "version": "3.8.1"
  }
 },
 "nbformat": 4,
 "nbformat_minor": 2
}
